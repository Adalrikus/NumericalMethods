{
 "cells": [
  {
   "cell_type": "code",
   "execution_count": 5,
   "metadata": {},
   "outputs": [
    {
     "name": "stdout",
     "output_type": "stream",
     "text": [
      "3\n",
      "-x + 3\n",
      "x**2/6 - 7*x/6 + 3\n",
      "-x**3/12 + x**2/2 - 17*x/12 + 3\n"
     ]
    }
   ],
   "source": [
    "#Adilkhan\n",
    "from sympy import symbols\n",
    "from sympy import expand\n",
    "\n",
    "x = [0, 1, 3, 4]\n",
    "y = [3, 2, 1, 0]\n",
    "\n",
    "def c(x, k, n):\n",
    "    c = 1\n",
    "    x_sym = symbols('x')\n",
    "    for i in range(n):\n",
    "        if i is not k:\n",
    "            c *= (x_sym - x[i])/(x[k] - x[i])\n",
    "        else:\n",
    "            continue\n",
    "    return c\n",
    "\n",
    "def L(x, y, n):\n",
    "    L = 0\n",
    "    for i in range(n):\n",
    "        L += c(x, i, n)*y[i]\n",
    "    return L\n",
    "\n",
    "for i in range(1, 5):\n",
    "    print(expand(L(x, y, i)))"
   ]
  },
  {
   "cell_type": "code",
   "execution_count": null,
   "metadata": {},
   "outputs": [],
   "source": []
  },
  {
   "cell_type": "code",
   "execution_count": null,
   "metadata": {},
   "outputs": [],
   "source": []
  },
  {
   "cell_type": "code",
   "execution_count": null,
   "metadata": {},
   "outputs": [],
   "source": []
  }
 ],
 "metadata": {
  "kernelspec": {
   "display_name": "Python 3",
   "language": "python",
   "name": "python3"
  },
  "language_info": {
   "codemirror_mode": {
    "name": "ipython",
    "version": 3
   },
   "file_extension": ".py",
   "mimetype": "text/x-python",
   "name": "python",
   "nbconvert_exporter": "python",
   "pygments_lexer": "ipython3",
   "version": "3.8.5"
  }
 },
 "nbformat": 4,
 "nbformat_minor": 2
}
