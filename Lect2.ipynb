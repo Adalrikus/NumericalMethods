{
 "cells": [
  {
   "cell_type": "code",
   "execution_count": 2,
   "metadata": {},
   "outputs": [
    {
     "name": "stdout",
     "output_type": "stream",
     "text": [
      "[0.  0.1 0.2 0.3 0.4 0.5 0.6 0.7 0.8 0.9 1. ]\n",
      "1.0 - 0.00999000999000899*x\n",
      "-0.296925296925309*x**2 + 0.0197025197025198*x + 1.0\n",
      "-0.912940786358462*x**3 - 0.0230430610177734*x**2 + 0.0014437039753572*x + 1.0\n"
     ]
    }
   ],
   "source": [
    "from sympy import symbols\n",
    "from sympy import expand\n",
    "import numpy as np\n",
    "\n",
    "x = np.arange(0, 1.1, 0.1)\n",
    "y = 1/(1+x**3)\n",
    "print(x)\n",
    "\n",
    "\n",
    "def c(x, k, n):\n",
    "    c = 1\n",
    "    x_sym = symbols('x')\n",
    "    for i in range(n):\n",
    "        if i is not k:\n",
    "            c *= (x_sym - x[i])/(x[k] - x[i])\n",
    "        else:\n",
    "            continue\n",
    "    return c\n",
    "\n",
    "def L(x, y, n):\n",
    "    L = 0\n",
    "    for i in range(n):\n",
    "        L += c(x, i, n)*y[i]\n",
    "    return L\n",
    "\n",
    "for i in range(2, 5):\n",
    "    print(expand(L(x, y, i)))"
   ]
  },
  {
   "cell_type": "code",
   "execution_count": 17,
   "metadata": {},
   "outputs": [
    {
     "name": "stdout",
     "output_type": "stream",
     "text": [
      "0.7299999999999958\n",
      "0.7200000000000033\n",
      "0.7166666666658017\n",
      "0.7140000000090367\n",
      "0.7106666661275085\n",
      "0.7061905114678666\n",
      "0.7003573542460799\n",
      "0.6932988911867142\n",
      "0.6856842041015625\n",
      "0.6797404289245605\n",
      "0.6751728057861328\n",
      "0.7100448608398438\n",
      "-1.08148193359375\n",
      "35.462890625\n",
      "381.875\n",
      "464.0\n",
      "2582.0\n",
      "-205774.0\n",
      "[0.00035735424607996613, 0.006190511467866644, 0.006701108813285783, 0.010044860839843794, 0.01066666612750855, 0.014000000009036784, 0.014315795898437456, 0.016666666665801744, 0.02000000000000335, 0.02025957107543941, 0.024827194213867143, 0.029999999999995808, 1.78148193359375, 34.762890625, 381.175, 463.3, 2581.3, 205774.7]\n"
     ]
    }
   ],
   "source": [
    "from sympy import diff, lambdify\n",
    "\n",
    "x = [4,4.1,4.3,4.4,4.5,4.6,4.7,4.8,4.9,5,5.1,5.2,5.3,5.4,5.5,5.6,5.7,5.8,5.9,6]\n",
    "y = [0.77,0.75,0.68,0.65,0.61,0.58,0.55,0.52,0.499,0.48,0.45,0.43,0.42,0.39,0.38,0.37,0.35,0.34,0.33,0.30]\n",
    "\n",
    "def f(x, y, ran):\n",
    "    if len(ran) != 2:\n",
    "        return (f(x, y, ran[1:]) - f(x, y, ran[:len(ran)-1]))/(x[ran[len(ran)-1]] - x[ran[0]])\n",
    "    else:\n",
    "        return (y[ran[1]] - y[ran[0]])/(x[ran[1]]-x[ran[0]])\n",
    "\n",
    "def L(x, y, n):\n",
    "    L = y[0]\n",
    "    x_sym = symbols('x')\n",
    "    for i in range(2, n+1):\n",
    "        temp = 1\n",
    "        for j in range(i-1):\n",
    "            temp *= (x_sym - x[j])\n",
    "        L += f(x, y, range(i))*temp\n",
    "    return L\n",
    "\n",
    "#for i in range(2, 7):\n",
    "#    print(expand(L(x, y, i)))\n",
    "x_sym = symbols('x')\n",
    "error = []\n",
    "for i in range(2, len(x)):\n",
    "    l_lam = lambdify(x_sym, expand(L(x, y, i)))\n",
    "    error.append(abs(0.7-l_lam(4.2)))\n",
    "    print(l_lam(4.2))\n",
    "\n",
    "error.sort()\n",
    "print(error)"
   ]
  },
  {
   "cell_type": "code",
   "execution_count": 17,
   "metadata": {},
   "outputs": [
    {
     "name": "stdout",
     "output_type": "stream",
     "text": [
      "18*x**4/(x**3 + 1)**3 - 6*x/(x**3 + 1)**2\n",
      "1.5719991638936377\n"
     ]
    },
    {
     "data": {
      "image/png": "[encoded data removed]",
      "text/plain": [
       "<Figure size 432x288 with 1 Axes>"
      ]
     },
     "metadata": {
      "needs_background": "light"
     },
     "output_type": "display_data"
    }
   ],
   "source": [
    "from sympy import diff, lambdify\n",
    "import matplotlib.pyplot as plt\n",
    "\n",
    "x = symbols('x')\n",
    "y = 1/(1+x**3)\n",
    "y_diff2 = diff(diff(y, x), x)\n",
    "print(y_diff2)\n",
    "\n",
    "x_val = np.arange(0, 1.1, 0.1)\n",
    "y_lam = lambdify(x, y_diff2)\n",
    "plt.plot(x_val, y_lam(x_val))\n",
    "\n",
    "M = max(abs(y_lam(x_val[1:4])))\n",
    "print(M)"
   ]
  },
  {
   "cell_type": "code",
   "execution_count": null,
   "metadata": {},
   "outputs": [],
   "source": []
  }
 ],
 "metadata": {
  "kernelspec": {
   "display_name": "Python 3",
   "language": "python",
   "name": "python3"
  },
  "language_info": {
   "codemirror_mode": {
    "name": "ipython",
    "version": 3
   },
   "file_extension": ".py",
   "mimetype": "text/x-python",
   "name": "python",
   "nbconvert_exporter": "python",
   "pygments_lexer": "ipython3",
   "version": "3.8.5"
  }
 },
 "nbformat": 4,
 "nbformat_minor": 4
}
